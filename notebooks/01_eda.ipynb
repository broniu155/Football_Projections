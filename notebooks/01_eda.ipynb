{
 "cells": [
  {
   "cell_type": "markdown",
   "id": "663070fb",
   "metadata": {},
   "source": [
    "# Home Advantage & Goal Patterns — EDA\n",
    "This notebook explores basic questions using Premier League CSVs.\n",
    "Run `python src/prepare_data.py` first to create `data/processed/matches.parquet`."
   ]
  },
  {
   "cell_type": "code",
   "execution_count": null,
   "id": "104a92b3",
   "metadata": {},
   "outputs": [],
   "source": [
    "import pandas as pd\n",
    "import matplotlib.pyplot as plt\n",
    "import plotly.express as px\n",
    "from pathlib import Path\n",
    "\n",
    "path = Path('data/processed/matches.parquet')\n",
    "assert path.exists(), 'Run prepare_data.py first'\n",
    "df = pd.read_parquet(path)\n",
    "df.head()"
   ]
  },
  {
   "cell_type": "markdown",
   "id": "e273c289",
   "metadata": {},
   "source": [
    "## 1. Overall home advantage\n",
    "Home win rate and goals per game."
   ]
  },
  {
   "cell_type": "code",
   "execution_count": null,
   "id": "6dc661f7",
   "metadata": {},
   "outputs": [],
   "source": [
    "home_rate = df['home_win'].mean()\n",
    "print(f'Home win rate: {home_rate:.2%}')\n",
    "\n",
    "ax = df[['FTHG','FTAG']].mean().plot(kind='bar', title='Average Goals: Home vs Away')\n",
    "ax.set_ylabel('Goals per match')\n",
    "plt.show()"
   ]
  },
  {
   "cell_type": "markdown",
   "id": "61f5d97e",
   "metadata": {},
   "source": [
    "## 2. Trend over time\n",
    "Home win rate by season."
   ]
  },
  {
   "cell_type": "code",
   "execution_count": null,
   "id": "c2ab3da8",
   "metadata": {},
   "outputs": [],
   "source": [
    "season_stats = df.groupby('season').agg(home_rate=('home_win','mean'), goals=('total_goals','mean')).reset_index()\n",
    "fig = px.line(season_stats, x='season', y=['home_rate','goals'], title='Home Win Rate and Goals per Match by Season')\n",
    "fig.show()"
   ]
  },
  {
   "cell_type": "markdown",
   "id": "ed7e768a",
   "metadata": {},
   "source": [
    "## 3. Team-level view\n",
    "Top and bottom teams by average goals (home)."
   ]
  },
  {
   "cell_type": "code",
   "execution_count": null,
   "id": "87039a8e",
   "metadata": {},
   "outputs": [],
   "source": [
    "team_home = df.groupby('HomeTeam')['FTHG'].mean().sort_values(ascending=False).head(10)\n",
    "team_home"
   ]
  },
  {
   "cell_type": "markdown",
   "id": "8bdf2da5",
   "metadata": {},
   "source": [
    "## 4. (Optional) Moving averages\n",
    "Compute rolling home win rate by calendar date."
   ]
  },
  {
   "cell_type": "code",
   "execution_count": null,
   "id": "25591e3e",
   "metadata": {},
   "outputs": [],
   "source": [
    "df_sorted = df.sort_values('Date')\n",
    "roll = df_sorted['home_win'].rolling(100, min_periods=50).mean()\n",
    "ax = roll.plot(title='Rolling Home Win Rate (window=100 matches)')\n",
    "ax.set_ylabel('Rate')\n",
    "plt.show()"
   ]
  },
  {
   "cell_type": "markdown",
   "id": "bee9a510",
   "metadata": {},
   "source": [
    "## Next steps\n",
    "- Add more seasons\n",
    "- Add simple baseline predictor\n",
    "- Export key charts as PNG for your README"
   ]
  }
 ],
 "metadata": {},
 "nbformat": 4,
 "nbformat_minor": 5
}
